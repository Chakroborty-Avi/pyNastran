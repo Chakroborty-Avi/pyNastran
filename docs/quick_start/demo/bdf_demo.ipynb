{
 "cells": [
  {
   "cell_type": "markdown",
   "metadata": {},
   "source": [
    "# BDF Introduction\n",
    "\n",
    "The Jupyter notebook for this demo can be found in:\n",
    "   - docs/quick_start/demo/bdf_demo.ipynb\n",
    "   - https://github.com/SteveDoyle2/pyNastran/tree/master/docs/quick_start/demo/bdf_demo.ipynb"
   ]
  },
  {
   "cell_type": "markdown",
   "metadata": {},
   "source": [
    "Import pyNastran"
   ]
  },
  {
   "cell_type": "code",
   "execution_count": 52,
   "metadata": {},
   "outputs": [
    {
     "name": "stdout",
     "output_type": "stream",
     "text": [
      "c:\\nasa\\m4\\formats\\git\\pynastran_1.4\\pyNastran\\__init__.py\n",
      "1.4.0\n",
      "pkg_path = c:\\nasa\\m4\\formats\\git\\pynastran_1.4\\pyNastran\n"
     ]
    }
   ],
   "source": [
    "import os\n",
    "import pyNastran\n",
    "print (pyNastran.__file__)\n",
    "print (pyNastran.__version__)\n",
    "pkg_path = pyNastran.__path__[0]\n",
    "\n",
    "from pyNastran.bdf.bdf import BDF, read_bdf\n",
    "from pyNastran.utils import object_attributes, object_methods\n",
    "\n",
    "print(\"pkg_path = %s\" % pkg_path)"
   ]
  },
  {
   "cell_type": "markdown",
   "metadata": {},
   "source": [
    "## Loading a BDF\n",
    "There are two ways to load a BDF; the long way or the short way.\n",
    "\n",
    "The short way instantiates the **```BDF```** class and the short way uses the **```read_bdf```** function.\n",
    "As this demo was written for the Jupyter Notebook, we'll use **``read_bdf``** and then mention the other method.  The class-based method allows finer control over things like:\n",
    " - what cards should be loaded\n",
    " - OpenMDAO dynamic syntax support\n",
    "\n",
    "### The class-based method"
   ]
  },
  {
   "cell_type": "code",
   "execution_count": 53,
   "metadata": {},
   "outputs": [
    {
     "name": "stdout",
     "output_type": "stream",
     "text": [
      "c:\\nasa\\m4\\formats\\git\\pynastran_1.4\\models\\iSat\\ISat_Launch_Sm_Rgd.dat\n"
     ]
    },
    {
     "data": {
      "text/html": [
       "<text style=color:blue>DEBUG:   bdf.py:1296                  ---starting BDF.read_bdf of c:\\nasa\\m4\\formats\\git\\pynastran_1.4\\models\\iSat\\ISat_Launch_Sm_Rgd.dat---\n",
       "</text>"
      ],
      "text/plain": [
       "<IPython.core.display.HTML object>"
      ]
     },
     "metadata": {},
     "output_type": "display_data"
    },
    {
     "data": {
      "text/html": [
       "<text style=color:blue>DEBUG:   pybdf.py:668                 opening 'c:\\\\nasa\\\\m4\\\\formats\\\\git\\\\pynastran_1.4\\\\models\\\\iSat\\\\ISat_Launch_Sm_Rgd.dat'\n",
       "</text>"
      ],
      "text/plain": [
       "<IPython.core.display.HTML object>"
      ]
     },
     "metadata": {},
     "output_type": "display_data"
    },
    {
     "data": {
      "text/html": [
       "<text style=color:blue>DEBUG:   bdf.py:1354                  ---finished BDF.read_bdf of c:\\nasa\\m4\\formats\\git\\pynastran_1.4\\models\\iSat\\ISat_Launch_Sm_Rgd.dat---\n",
       "</text>"
      ],
      "text/plain": [
       "<IPython.core.display.HTML object>"
      ]
     },
     "metadata": {},
     "output_type": "display_data"
    }
   ],
   "source": [
    "bdf_filename = os.path.abspath(os.path.join(pkg_path, '..', 'models', 'iSat', 'ISat_Launch_Sm_Rgd.dat'))\n",
    "print(bdf_filename)\n",
    "\n",
    "# create the BDF object\n",
    "bdf = BDF()\n",
    "\n",
    "# read the file from the GUI\n",
    "# don't cross-reference\n",
    "bdf.read_bdf(bdf_filename, xref=False)"
   ]
  },
  {
   "cell_type": "markdown",
   "metadata": {},
   "source": [
    "### The function-based method"
   ]
  },
  {
   "cell_type": "code",
   "execution_count": 54,
   "metadata": {},
   "outputs": [
    {
     "data": {
      "text/html": [
       "<text style=color:blue>DEBUG:   bdf.py:1296                  ---starting BDF.read_bdf of c:\\nasa\\m4\\formats\\git\\pynastran_1.4\\models\\iSat\\ISat_Launch_Sm_Rgd.dat---\n",
       "</text>"
      ],
      "text/plain": [
       "<IPython.core.display.HTML object>"
      ]
     },
     "metadata": {},
     "output_type": "display_data"
    },
    {
     "data": {
      "text/html": [
       "<text style=color:blue>DEBUG:   pybdf.py:668                 opening 'c:\\\\nasa\\\\m4\\\\formats\\\\git\\\\pynastran_1.4\\\\models\\\\iSat\\\\ISat_Launch_Sm_Rgd.dat'\n",
       "</text>"
      ],
      "text/plain": [
       "<IPython.core.display.HTML object>"
      ]
     },
     "metadata": {},
     "output_type": "display_data"
    },
    {
     "data": {
      "text/html": [
       "<text style=color:blue>DEBUG:   bdf.py:1354                  ---finished BDF.read_bdf of c:\\nasa\\m4\\formats\\git\\pynastran_1.4\\models\\iSat\\ISat_Launch_Sm_Rgd.dat---\n",
       "</text>"
      ],
      "text/plain": [
       "<IPython.core.display.HTML object>"
      ]
     },
     "metadata": {},
     "output_type": "display_data"
    }
   ],
   "source": [
    "bdf = read_bdf(bdf_filename, xref=False)"
   ]
  },
  {
   "cell_type": "markdown",
   "metadata": {},
   "source": [
    "For simplicity of using the demo, we'll again use the ```read_bdf``` method"
   ]
  },
  {
   "cell_type": "code",
   "execution_count": 55,
   "metadata": {},
   "outputs": [
    {
     "data": {
      "text/html": [
       "<text style=color:blue>DEBUG:   bdf.py:1296                  ---starting BDF.read_bdf of c:\\nasa\\m4\\formats\\git\\pynastran_1.4\\models\\iSat\\ISat_Launch_Sm_Rgd.dat---\n",
       "</text>"
      ],
      "text/plain": [
       "<IPython.core.display.HTML object>"
      ]
     },
     "metadata": {},
     "output_type": "display_data"
    },
    {
     "data": {
      "text/html": [
       "<text style=color:blue>DEBUG:   pybdf.py:668                 opening 'c:\\\\nasa\\\\m4\\\\formats\\\\git\\\\pynastran_1.4\\\\models\\\\iSat\\\\ISat_Launch_Sm_Rgd.dat'\n",
       "</text>"
      ],
      "text/plain": [
       "<IPython.core.display.HTML object>"
      ]
     },
     "metadata": {},
     "output_type": "display_data"
    },
    {
     "data": {
      "text/html": [
       "<text style=color:blue>DEBUG:   cross_reference.py:151       Cross Referencing...\n",
       "</text>"
      ],
      "text/plain": [
       "<IPython.core.display.HTML object>"
      ]
     },
     "metadata": {},
     "output_type": "display_data"
    },
    {
     "data": {
      "text/html": [
       "<text style=color:orange>WARNING: shell.py:2595                PSHELL pid=1 midsurface: z1=0.4 z2=-0.4 t=0.036 not in range of -1.5t < zi < 1.5t\n",
       "</text>"
      ],
      "text/plain": [
       "<IPython.core.display.HTML object>"
      ]
     },
     "metadata": {},
     "output_type": "display_data"
    },
    {
     "data": {
      "text/html": [
       "<text style=color:orange>WARNING: shell.py:2595                PSHELL pid=2 midsurface: z1=0.4 z2=-0.4 t=0.054 not in range of -1.5t < zi < 1.5t\n",
       "</text>"
      ],
      "text/plain": [
       "<IPython.core.display.HTML object>"
      ]
     },
     "metadata": {},
     "output_type": "display_data"
    },
    {
     "data": {
      "text/html": [
       "<text style=color:orange>WARNING: shell.py:2595                PSHELL pid=3 midsurface: z1=0.4 z2=-0.4 t=0.018 not in range of -1.5t < zi < 1.5t\n",
       "</text>"
      ],
      "text/plain": [
       "<IPython.core.display.HTML object>"
      ]
     },
     "metadata": {},
     "output_type": "display_data"
    },
    {
     "data": {
      "text/html": [
       "<text style=color:orange>WARNING: shell.py:2595                PSHELL pid=7 midsurface: z1=0.418 z2=-0.418 t=0.036 not in range of -1.5t < zi < 1.5t\n",
       "</text>"
      ],
      "text/plain": [
       "<IPython.core.display.HTML object>"
      ]
     },
     "metadata": {},
     "output_type": "display_data"
    },
    {
     "data": {
      "text/html": [
       "<text style=color:orange>WARNING: shell.py:2595                PSHELL pid=34 midsurface: z1=0.194 z2=-0.194 t=0.0186 not in range of -1.5t < zi < 1.5t\n",
       "</text>"
      ],
      "text/plain": [
       "<IPython.core.display.HTML object>"
      ]
     },
     "metadata": {},
     "output_type": "display_data"
    },
    {
     "data": {
      "text/html": [
       "<text style=color:orange>WARNING: shell.py:2595                PSHELL pid=38 midsurface: z1=0.284 z2=-0.284 t=0.0186 not in range of -1.5t < zi < 1.5t\n",
       "</text>"
      ],
      "text/plain": [
       "<IPython.core.display.HTML object>"
      ]
     },
     "metadata": {},
     "output_type": "display_data"
    },
    {
     "data": {
      "text/html": [
       "<text style=color:orange>WARNING: shell.py:2595                PSHELL pid=46 midsurface: z1=0.199 z2=-0.199 t=0.0186 not in range of -1.5t < zi < 1.5t\n",
       "</text>"
      ],
      "text/plain": [
       "<IPython.core.display.HTML object>"
      ]
     },
     "metadata": {},
     "output_type": "display_data"
    },
    {
     "data": {
      "text/html": [
       "<text style=color:orange>WARNING: shell.py:2595                PSHELL pid=37 midsurface: z1=0.309 z2=-0.309 t=0.0186 not in range of -1.5t < zi < 1.5t\n",
       "</text>"
      ],
      "text/plain": [
       "<IPython.core.display.HTML object>"
      ]
     },
     "metadata": {},
     "output_type": "display_data"
    },
    {
     "data": {
      "text/html": [
       "<text style=color:blue>DEBUG:   bdf.py:1354                  ---finished BDF.read_bdf of c:\\nasa\\m4\\formats\\git\\pynastran_1.4\\models\\iSat\\ISat_Launch_Sm_Rgd.dat---\n",
       "</text>"
      ],
      "text/plain": [
       "<IPython.core.display.HTML object>"
      ]
     },
     "metadata": {},
     "output_type": "display_data"
    }
   ],
   "source": [
    "#bdf_filename = r'D:\\work\\pynastran_0.8.0_py27\\models\\iSat\\ISat_Launch_Sm_Rgd.dat'\n",
    "bdf_filename = os.path.abspath(os.path.join(pkg_path, '..', 'models', 'iSat', 'ISat_Launch_Sm_Rgd.dat'))\n",
    "\n",
    "# read the file as a path\n",
    "bdf_xref = read_bdf(bdf_filename, xref=True)"
   ]
  },
  {
   "cell_type": "markdown",
   "metadata": {},
   "source": [
    "We can use the generic object attributes/methods functions"
   ]
  },
  {
   "cell_type": "markdown",
   "metadata": {},
   "source": [
    "#### Some other very handy methods that will be used later by ```test_bdf```"
   ]
  },
  {
   "cell_type": "code",
   "execution_count": 56,
   "metadata": {},
   "outputs": [
    {
     "name": "stdout",
     "output_type": "stream",
     "text": [
      "---BDF Statistics---\n",
      "SOL 103\n",
      "\n",
      "bdf.spcs[1]\n",
      "  SPC:     1\n",
      "\n",
      "bdf.params\n",
      "  PARAM    : 8\n",
      "\n",
      "bdf.nodes\n",
      "  GRID     : 5380\n",
      "\n",
      "bdf.elements\n",
      "  CBAR     : 827\n",
      "  CBUSH    : 104\n",
      "  CHEXA    : 25\n",
      "  CQUAD4   : 4580\n",
      "  CTRIA3   : 32\n",
      "\n",
      "bdf.rigid_elements\n",
      "  RBE2     : 44\n",
      "\n",
      "bdf.properties\n",
      "  PBAR     : 1\n",
      "  PBARL    : 18\n",
      "  PBUSH    : 2\n",
      "  PSHELL   : 8\n",
      "  PSOLID   : 4\n",
      "\n",
      "bdf.masses\n",
      "  CONM2    : 15\n",
      "\n",
      "bdf.materials\n",
      "  MAT1     : 14\n",
      "  MAT8     : 8\n",
      "\n",
      "bdf.coords\n",
      "  CORD2R   : 75\n",
      "\n",
      "bdf.methods\n",
      "  EIGRL    : 1\n",
      "\n",
      "bdf.usets\n",
      "  USET     : 1\n",
      "\n",
      "\n",
      "card_count = {'ENDDATA': 1, 'PARAM': 8, 'SPC': 1, 'USET': 1, 'EIGRL': 1, 'CORD2R': 75, 'GRID': 5380, 'CQUAD4': 4580, 'CBAR': 827, 'CHEXA': 25, 'RBE2': 44, 'CTRIA3': 32, 'CBUSH': 104, 'CONM2': 15, 'MAT1': 14, 'MAT8': 8, 'PSHELL': 8, 'PBARL': 18, 'PSOLID': 4, 'PBAR': 1, 'PBUSH': 2}\n",
      "\n",
      "reject_count = {}\n"
     ]
    }
   ],
   "source": [
    "print(bdf.get_bdf_stats())\n",
    "print(\"card_count = %s\\n\" % bdf.card_count)\n",
    "print(\"reject_count = %s\" % bdf.reject_count)"
   ]
  },
  {
   "cell_type": "markdown",
   "metadata": {},
   "source": [
    "## Cross-referencing\n",
    "\n",
    "Cross-referencing a BDF allows improved usability of the **``BDF``** class.  It comes with some negative side effects, but in general is a very useful thing.  It dramatically minimizes the amount of code you need to write, greatly simplifies future operations, and is highly recommended.\n",
    "\n",
    "The major downside is it slows down the code.\n",
    "\n",
    "### Without Cross-Referencing (xref=False)\n",
    "Here the raw values of the the data objects are returned to us"
   ]
  },
  {
   "cell_type": "code",
   "execution_count": 57,
   "metadata": {},
   "outputs": [
    {
     "name": "stdout",
     "output_type": "stream",
     "text": [
      "$*\n",
      "$*  ELEMENT CARDS\n",
      "$*\n",
      "CQUAD4         1       1       1       2       4       3\n",
      "\n",
      "nid1 = 1\n",
      "i (xref=False) = [1. 0. 0.]\n"
     ]
    }
   ],
   "source": [
    "cquad = bdf.elements[1]\n",
    "print(cquad)\n",
    "nid1 = cquad.nodes[0]\n",
    "print(\"nid1 = %s\" % nid1)\n",
    "n1 = bdf.nodes[nid1]\n",
    "cd4 = n1.cd\n",
    "c4 = bdf.coords[cd4]\n",
    "print(\"i (xref=False) = %s\" % str(c4.i))\n",
    "#print object_attributes(c4)"
   ]
  },
  {
   "cell_type": "markdown",
   "metadata": {},
   "source": [
    "### Cross-Referenced (xref=True)\n",
    "Here we can trace the referenced objects very easily.\n",
    "\n",
    "A cross-referenced attribute is indicated with the **``*_ref``** suffix:\n",
    "  * ``cquad4_element.nodes`` : not cross referenced\n",
    "  * ``cquad4_element.nodes_ref`` : cross referenced"
   ]
  },
  {
   "cell_type": "code",
   "execution_count": 58,
   "metadata": {},
   "outputs": [
    {
     "name": "stdout",
     "output_type": "stream",
     "text": [
      "i (xref=True) = [1. 0. 0.]\n"
     ]
    }
   ],
   "source": [
    "print(\"i (xref=True) = %s\" % bdf_xref.elements[1].nodes_ref[0].cd_ref.i)"
   ]
  },
  {
   "cell_type": "markdown",
   "metadata": {},
   "source": [
    "So how is this done?"
   ]
  },
  {
   "cell_type": "code",
   "execution_count": 59,
   "metadata": {},
   "outputs": [
    {
     "name": "stdout",
     "output_type": "stream",
     "text": [
      "$*\n",
      "$*  GRID CARDS\n",
      "$*\n",
      "GRID           1       4    -4.5    -7.5    -14.       4\n",
      "\n"
     ]
    }
   ],
   "source": [
    "cquad.nodes_ref = []\n",
    "cquad.nodes_ref.append(n1)\n",
    "print(cquad.nodes_ref[0])"
   ]
  },
  {
   "cell_type": "markdown",
   "metadata": {},
   "source": [
    "#### Let's show off the GRID card"
   ]
  },
  {
   "cell_type": "code",
   "execution_count": 60,
   "metadata": {},
   "outputs": [
    {
     "name": "stdout",
     "output_type": "stream",
     "text": [
      "$*\n",
      "$*  GRID CARDS\n",
      "$*\n",
      "GRID           1       4    -4.5    -7.5    -14.       4\n",
      "\n",
      "c1='$*\\n$*  GRID CARDS\\n$*\\n'\n",
      "c2=''\n",
      "xyz = [ -4.5  -7.5 -14. ]\n",
      "position = [ -4.5  -7.5 -14. ]\n",
      "wrt5 = [  2.12132034  14.         -26.59188309]\n",
      "wrt4 = [ -4.5  -7.5 -14. ]\n"
     ]
    }
   ],
   "source": [
    "# some Grid methods\n",
    "n1 = bdf_xref.nodes[1]\n",
    "print(n1)\n",
    "\n",
    "# the comment\n",
    "c1 = bdf_xref.nodes[1].comment\n",
    "c2 = bdf_xref.nodes[2].comment\n",
    "print(\"c1=%r\" % c1)\n",
    "print(\"c2=%r\" % c2)\n",
    "\n",
    "\n",
    "# get the position of a node\n",
    "# in the local cooordinate system\n",
    "print(\"xyz = %s\" % n1.xyz)\n",
    "\n",
    "# in the global frame\n",
    "print(\"position = %s\" % n1.get_position())\n",
    "\n",
    "# in an arbitrary frame\n",
    "print(\"wrt5 = %s\" % n1.get_position_wrt(bdf, 5))\n",
    "print(\"wrt4 = %s\" % n1.get_position_wrt(bdf, 4))\n"
   ]
  },
  {
   "cell_type": "markdown",
   "metadata": {},
   "source": [
    "Now let's modify the **``GRID``** card and write it out"
   ]
  },
  {
   "cell_type": "code",
   "execution_count": 61,
   "metadata": {},
   "outputs": [
    {
     "name": "stdout",
     "output_type": "stream",
     "text": [
      "repr  = ['GRID', 1, 4, -4.5, -7.5, -14.0, 4, '', None]\n",
      "raw   = ['GRID', 1, 4, -4.5, -7.5, -14.0, 4, '', 0]\n",
      "repr2 = ['GRID', 1, 4, -4.5, -7.5, -14.0, 4, '', None]\n",
      "$*\n",
      "$*  GRID CARDS\n",
      "$*\n",
      "GRID           1       4    -4.5    -7.5    -14.       4\n",
      "\n",
      "$*\n",
      "$*  GRID CARDS\n",
      "$*\n",
      "GRID           1       4    -4.5    -7.5    -14.       4                \n",
      "\n",
      "$*\n",
      "$*  GRID CARDS\n",
      "$*\n",
      "GRID*                  1               4            -4.5            -7.5\n",
      "*                   -14.               4                                \n",
      "\n",
      "$*\n",
      "$*  GRID CARDS\n",
      "$*\n",
      "GRID*                  1               4-4.500000000D+00-7.500000000D+00\n",
      "*       -1.400000000D+01               4                                \n",
      "\n"
     ]
    }
   ],
   "source": [
    "n1 = bdf_xref.nodes[1]\n",
    "n1.xyz[1] = -7.5\n",
    "print(\"repr  = %s\" % n1.repr_fields())\n",
    "print(\"raw   = %s\" % n1.raw_fields())\n",
    "\n",
    "#n1.xyz[1] = 100000000000.\n",
    "print(\"repr2 = %s\" % n1.repr_fields())\n",
    "print(n1)\n",
    "print(n1.write_card(size=8))\n",
    "print(n1.write_card(size=16, is_double=False))\n",
    "print(n1.write_card(size=16, is_double=True))"
   ]
  },
  {
   "cell_type": "markdown",
   "metadata": {},
   "source": [
    "### Examples of xref on elements"
   ]
  },
  {
   "cell_type": "code",
   "execution_count": 62,
   "metadata": {
    "scrolled": false
   },
   "outputs": [
    {
     "name": "stdout",
     "output_type": "stream",
     "text": [
      "CQUAD4       100       1     149     152     161     160\n",
      "\n",
      "nodes = [149, 152, 161, 160]\n",
      "--node0--\n",
      "GRID         149       4      3.     7.5   -16.5       4\n",
      "\n",
      "--cd--\n",
      "4\n",
      "cd.cid = 4\n",
      "area = 3.75\n",
      "mass = 3.642880307396999e-05\n",
      "--pid--\n",
      "1\n",
      "pid.pid = 1\n",
      "pid.Pid() = 1\n",
      "$*\n",
      "$*  I-DEAS Material: 6  name: BUS_CFRP_PW_ORTHO\n",
      "$* M46J PW ETW\n",
      "MAT8           6   1.7+7   1.7+7     .98 340000. 180000. 180000..0001712\n",
      "                           71.33\n",
      "\n",
      "type = MAT8\n",
      "nu12 = 0.98\n",
      "mass = 3.642880307396999e-05\n"
     ]
    }
   ],
   "source": [
    "eid100 = bdf_xref.elements[100]\n",
    "print(eid100)\n",
    "print(\"nodes = %s\" % eid100.nodes)\n",
    "print(\"--node0--\\n%s\" % eid100.nodes_ref[0])\n",
    "print(\"--cd--\\n%s\" % eid100.nodes_ref[0].cd)\n",
    "print(\"cd.cid = %s\" % eid100.nodes_ref[0].cd_ref.cid)\n",
    "\n",
    "print(\"area = %s\" % eid100.Area())\n",
    "print(\"mass = %s\" % eid100.Mass())\n",
    "print(\"--pid--\\n%s\" % eid100.pid)\n",
    "print(\"pid.pid = %s\" % eid100.pid_ref.pid)\n",
    "print(\"pid.Pid() = %s\" % eid100.Pid())\n",
    "\n",
    "print(eid100.pid_ref.mid1_ref)\n",
    "print(\"type = %s\" % eid100.pid_ref.mid1_ref.type)\n",
    "print(\"nu12 = %s\" % eid100.pid_ref.mid1_ref.nu12)\n",
    "print(\"mass = %s\" % eid100.Mass())"
   ]
  },
  {
   "cell_type": "markdown",
   "metadata": {},
   "source": [
    "## Write the modified deck\n",
    "Let's first switch to the desktop to make the file easy to find"
   ]
  },
  {
   "cell_type": "code",
   "execution_count": 63,
   "metadata": {},
   "outputs": [],
   "source": [
    "import getpass\n",
    "name = getpass.getuser()\n",
    "os.chdir(os.path.join(r'C:\\Users', name, 'Desktop'))"
   ]
  },
  {
   "cell_type": "code",
   "execution_count": 64,
   "metadata": {},
   "outputs": [
    {
     "data": {
      "text/plain": [
       "'C:\\\\Users\\\\sdoyle\\\\Desktop'"
      ]
     },
     "execution_count": 64,
     "metadata": {},
     "output_type": "execute_result"
    }
   ],
   "source": [
    "pwd"
   ]
  },
  {
   "cell_type": "markdown",
   "metadata": {},
   "source": [
    "There are two ways to write a deck\n",
    " - **``interspersed``** : alternate properties and elements (similar to how Patran writes decks)\n",
    " - **``not-interspersed (default)``** : much faster\n",
    " \n",
    "We can also use 8 or 16 character field width as well as double precision.\n",
    "\n",
    "Note that double precision only works for certain cards (e.g. ``GRID``, ``COORD``, ``DMIG``) and not much else."
   ]
  },
  {
   "cell_type": "code",
   "execution_count": 65,
   "metadata": {
    "scrolled": false
   },
   "outputs": [
    {
     "data": {
      "text/html": [
       "<text style=color:blue>DEBUG:   write_mesh.py:164            ---starting BDF.write_bdf of fem.bdf---\n",
       "</text>"
      ],
      "text/plain": [
       "<IPython.core.display.HTML object>"
      ]
     },
     "metadata": {},
     "output_type": "display_data"
    },
    {
     "name": "stdout",
     "output_type": "stream",
     "text": [
      "CORD2R        75        1.355-13-2.19-15    -40.1.355-13-2.19-15      0.\n",
      "             40.-2.19-15    -40.\n",
      "CORD2R        76        1.355-13-2.19-15    -40.1.355-13-2.19-15      0.\n",
      "             40.-2.19-15    -40."
     ]
    },
    {
     "data": {
      "text/html": [
       "<text style=color:blue>DEBUG:   write_mesh.py:164            ---starting BDF.write_bdf of fem.bdf---\n",
       "</text>"
      ],
      "text/plain": [
       "<IPython.core.display.HTML object>"
      ]
     },
     "metadata": {},
     "output_type": "display_data"
    },
    {
     "name": "stdout",
     "output_type": "stream",
     "text": [
      "\n",
      "ENDDATA\n",
      "*\n",
      "CORD2R*               75                 1.3549966049-13-2.1854783949-15\n",
      "*                   -40. 1.3549966049-13-2.1854783949-15              0.\n",
      "*                    40.-2.1854783949-15            -40.\n",
      "*\n",
      "CORD2R*               76                 1.3549966049-13-2.1854783949-15\n",
      "*                   -40. 1.3549966049-13-2.1854783949-15              0.\n",
      "*                    40.-2.1854783949-15            -40.\n",
      "*\n",
      "ENDDATA\n"
     ]
    },
    {
     "data": {
      "text/html": [
       "<text style=color:blue>DEBUG:   write_mesh.py:164            ---starting BDF.write_bdf of fem.bdf---\n",
       "</text>"
      ],
      "text/plain": [
       "<IPython.core.display.HTML object>"
      ]
     },
     "metadata": {},
     "output_type": "display_data"
    },
    {
     "name": "stdout",
     "output_type": "stream",
     "text": [
      "*\n",
      "CORD2R*               75                1.3549966049D-13-2.185478395D-15\n",
      "*       -4.000000000D+011.3549966049D-13-2.185478395D-150.0000000000D+00\n",
      "*       4.0000000000D+01-2.185478395D-15-4.000000000D+01\n",
      "*\n",
      "CORD2R*               76                1.3549966049D-13-2.185478395D-15\n",
      "*       -4.000000000D+011.3549966049D-13-2.185478395D-150.0000000000D+00\n",
      "*       4.0000000000D+01-2.185478395D-15-4.000000000D+01\n",
      "*\n",
      "ENDDATA\n"
     ]
    }
   ],
   "source": [
    "bdf_xref.write_bdf('fem.bdf', interspersed=False, size=8, is_double=False)\n",
    "!tail -n 5 \"fem.bdf\"\n",
    "\n",
    "bdf_xref.write_bdf('fem.bdf', interspersed=True, size=16, is_double=False)\n",
    "!tail \"fem.bdf\"\n",
    "\n",
    "bdf_xref.write_bdf('fem.bdf', interspersed=True, size=16, is_double=True)\n",
    "!tail \"fem.bdf\""
   ]
  },
  {
   "cell_type": "code",
   "execution_count": 66,
   "metadata": {},
   "outputs": [
    {
     "data": {
      "text/plain": [
       "'c:\\\\nasa\\\\m4\\\\formats\\\\git\\\\pynastran_1.4\\\\models\\\\iSat\\\\ISat_Launch_Sm_Rgd.dat'"
      ]
     },
     "execution_count": 66,
     "metadata": {},
     "output_type": "execute_result"
    }
   ],
   "source": [
    "bdf_filename"
   ]
  }
 ],
 "metadata": {
  "kernelspec": {
   "display_name": "Python 3",
   "language": "python",
   "name": "python3"
  },
  "language_info": {
   "codemirror_mode": {
    "name": "ipython",
    "version": 3
   },
   "file_extension": ".py",
   "mimetype": "text/x-python",
   "name": "python",
   "nbconvert_exporter": "python",
   "pygments_lexer": "ipython3",
   "version": "3.7.7"
  }
 },
 "nbformat": 4,
 "nbformat_minor": 2
}
